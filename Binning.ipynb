{
 "cells": [
  {
   "cell_type": "code",
   "execution_count": 1,
   "metadata": {},
   "outputs": [],
   "source": [
    "import pandas as pd"
   ]
  },
  {
   "cell_type": "code",
   "execution_count": 2,
   "metadata": {},
   "outputs": [],
   "source": [
    "path = \"data/Crimes_-_2001_to_present.csv\"\n",
    "full_data = pd.read_csv(path)"
   ]
  },
  {
   "cell_type": "code",
   "execution_count": 33,
   "metadata": {},
   "outputs": [
    {
     "data": {
      "text/plain": [
       "array(['BATTERY', 'OTHER OFFENSE', 'ROBBERY', 'NARCOTICS',\n",
       "       'CRIMINAL DAMAGE', 'WEAPONS VIOLATION', 'THEFT', 'BURGLARY',\n",
       "       'MOTOR VEHICLE THEFT', 'PUBLIC PEACE VIOLATION',\n",
       "       'DECEPTIVE PRACTICE', 'ASSAULT', 'CRIMINAL TRESPASS',\n",
       "       'CRIM SEXUAL ASSAULT', 'INTERFERENCE WITH PUBLIC OFFICER', 'ARSON',\n",
       "       'LIQUOR LAW VIOLATION', 'KIDNAPPING', 'SEX OFFENSE',\n",
       "       'OFFENSE INVOLVING CHILDREN', 'PROSTITUTION', 'HOMICIDE',\n",
       "       'GAMBLING', 'INTIMIDATION', 'STALKING', 'OBSCENITY',\n",
       "       'PUBLIC INDECENCY', 'HUMAN TRAFFICKING',\n",
       "       'CONCEALED CARRY LICENSE VIOLATION', 'OTHER NARCOTIC VIOLATION',\n",
       "       'NON - CRIMINAL', 'NON-CRIMINAL', 'RITUALISM',\n",
       "       'NON-CRIMINAL (SUBJECT SPECIFIED)', 'DOMESTIC VIOLENCE'],\n",
       "      dtype=object)"
      ]
     },
     "execution_count": 33,
     "metadata": {},
     "output_type": "execute_result"
    }
   ],
   "source": [
    "full_data[\"Date\"] = pd.to_datetime(full_data[\"Date\"])\n",
    "\n",
    "full_data[\"Primary Type\"].unique()\n",
    "\n"
   ]
  },
  {
   "cell_type": "code",
   "execution_count": 30,
   "metadata": {},
   "outputs": [
    {
     "data": {
      "text/plain": [
       "ID                               int64\n",
       "Case Number                     object\n",
       "Date                    datetime64[ns]\n",
       "Block                           object\n",
       "IUCR                            object\n",
       "Primary Type                    object\n",
       "Description                     object\n",
       "Location Description            object\n",
       "Arrest                            bool\n",
       "Domestic                          bool\n",
       "Beat                             int64\n",
       "District                       float64\n",
       "Ward                           float64\n",
       "Community Area                 float64\n",
       "FBI Code                        object\n",
       "X Coordinate                   float64\n",
       "Y Coordinate                   float64\n",
       "Year                             int64\n",
       "Updated On                      object\n",
       "Latitude                       float64\n",
       "Longitude                      float64\n",
       "Location                        object\n",
       "dtype: object"
      ]
     },
     "execution_count": 30,
     "metadata": {},
     "output_type": "execute_result"
    }
   ],
   "source": [
    "full_data.dtypes"
   ]
  },
  {
   "cell_type": "code",
   "execution_count": null,
   "metadata": {},
   "outputs": [],
   "source": []
  }
 ],
 "metadata": {
  "kernelspec": {
   "display_name": "Python 3",
   "language": "python",
   "name": "python3"
  },
  "language_info": {
   "codemirror_mode": {
    "name": "ipython",
    "version": 3
   },
   "file_extension": ".py",
   "mimetype": "text/x-python",
   "name": "python",
   "nbconvert_exporter": "python",
   "pygments_lexer": "ipython3",
   "version": "3.7.0"
  }
 },
 "nbformat": 4,
 "nbformat_minor": 2
}
