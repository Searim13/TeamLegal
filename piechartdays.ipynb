{
 "cells": [
  {
   "cell_type": "code",
   "execution_count": 2,
   "metadata": {},
   "outputs": [],
   "source": [
    "import pandas as pd\n",
    "import numpy as np\n",
    "import matplotlib.pyplot as plt"
   ]
  },
  {
   "cell_type": "code",
   "execution_count": 36,
   "metadata": {},
   "outputs": [],
   "source": [
    "crime = pd.read_csv(\"TotalData2.csv\")"
   ]
  },
  {
   "cell_type": "code",
   "execution_count": null,
   "metadata": {},
   "outputs": [],
   "source": [
    "crime[\"Weather\"].unique()"
   ]
  },
  {
   "cell_type": "code",
   "execution_count": 37,
   "metadata": {},
   "outputs": [
    {
     "data": {
      "text/plain": [
       "array(['BATTERY', 'OTHER OFFENSE', 'ROBBERY', 'NARCOTICS',\n",
       "       'CRIMINAL DAMAGE', 'THEFT', 'BURGLARY', 'MOTOR VEHICLE THEFT',\n",
       "       'ASSAULT', 'DECEPTIVE PRACTICE'], dtype=object)"
      ]
     },
     "execution_count": 37,
     "metadata": {},
     "output_type": "execute_result"
    }
   ],
   "source": [
    "crime_data_pt = crime[\"Primary Type\"].value_counts().head(10)\n",
    "top_10 = list(crime_data_pt.index)\n",
    "top_10_filter = crime['Primary Type'].isin(top_10)\n",
    "crime_top_10 = crime.loc[top_10_filter, :]\n",
    "crime_top_10[\"Primary Type\"].unique()"
   ]
  },
  {
   "cell_type": "code",
   "execution_count": null,
   "metadata": {},
   "outputs": [],
   "source": [
    "new_crime = crime_top_10[[\"Weather\", 'Primary Type']]\n",
    "\n",
    "crime_array = new_crime[\"Weather\"].unique()\n",
    "final_crime = new_crime[new_crime[\"Weather\"].isin(crime_array)]"
   ]
  },
  {
   "cell_type": "code",
   "execution_count": null,
   "metadata": {
    "scrolled": true
   },
   "outputs": [],
   "source": [
    "\n",
    "freq_table = pd.crosstab(final_crime['Weather'], final_crime['Primary Type'])\n",
    "freq_table.plot.bar(stacked=True,figsize=(20,12), edgecolor='black', width=(.4))\n",
    "plt.xticks(rotation=\"45\")\n",
    "plt.savefig('crime_type_temp_range.png')"
   ]
  },
  {
   "cell_type": "code",
   "execution_count": null,
   "metadata": {},
   "outputs": [],
   "source": []
  },
  {
   "cell_type": "code",
   "execution_count": null,
   "metadata": {},
   "outputs": [],
   "source": [
    "#label = crime['Weather'].unique()\n",
    "#sizes= crime['Weather'].value_counts()\n",
    "#print(list(sizes))\n",
    "#print(sizes.index)\n",
    "#explode=[0,0,0,0,.1]\n",
    "#fig1 = plt.pie(list(sizes),labels=sizes.index, explode=explode,autopct='%1.1f%%',\n",
    " #       shadow=True, startangle=90)\n",
    "#plt.axis('equal')"
   ]
  },
  {
   "cell_type": "code",
   "execution_count": 7,
   "metadata": {},
   "outputs": [],
   "source": [
    "crime2 = pd.read_csv('TotalData3.csv')"
   ]
  },
  {
   "cell_type": "code",
   "execution_count": 8,
   "metadata": {},
   "outputs": [
    {
     "data": {
      "text/html": [
       "<div>\n",
       "<style scoped>\n",
       "    .dataframe tbody tr th:only-of-type {\n",
       "        vertical-align: middle;\n",
       "    }\n",
       "\n",
       "    .dataframe tbody tr th {\n",
       "        vertical-align: top;\n",
       "    }\n",
       "\n",
       "    .dataframe thead th {\n",
       "        text-align: right;\n",
       "    }\n",
       "</style>\n",
       "<table border=\"1\" class=\"dataframe\">\n",
       "  <thead>\n",
       "    <tr style=\"text-align: right;\">\n",
       "      <th></th>\n",
       "      <th>ID</th>\n",
       "      <th>Date</th>\n",
       "      <th>Block</th>\n",
       "      <th>Primary Type</th>\n",
       "      <th>Description</th>\n",
       "      <th>Location Description</th>\n",
       "      <th>Arrest</th>\n",
       "      <th>Domestic</th>\n",
       "      <th>Beat</th>\n",
       "      <th>District</th>\n",
       "      <th>...</th>\n",
       "      <th>Year</th>\n",
       "      <th>Updated On</th>\n",
       "      <th>Location</th>\n",
       "      <th>Day</th>\n",
       "      <th>MinTemp</th>\n",
       "      <th>MaxTemp</th>\n",
       "      <th>Season</th>\n",
       "      <th>AvgTemp</th>\n",
       "      <th>Weather</th>\n",
       "      <th>Inside/Outside</th>\n",
       "    </tr>\n",
       "  </thead>\n",
       "  <tbody>\n",
       "    <tr>\n",
       "      <th>0</th>\n",
       "      <td>10000092</td>\n",
       "      <td>2015-03-18 19:44:00</td>\n",
       "      <td>047XX W OHIO ST</td>\n",
       "      <td>BATTERY</td>\n",
       "      <td>AGGRAVATED: HANDGUN</td>\n",
       "      <td>STREET</td>\n",
       "      <td>False</td>\n",
       "      <td>False</td>\n",
       "      <td>1111</td>\n",
       "      <td>11.0</td>\n",
       "      <td>...</td>\n",
       "      <td>2015</td>\n",
       "      <td>02/10/2018 03:50:01 PM</td>\n",
       "      <td>(41.891398861, -87.744384567)</td>\n",
       "      <td>2015-03-18</td>\n",
       "      <td>34</td>\n",
       "      <td>48</td>\n",
       "      <td>Spring</td>\n",
       "      <td>41.0</td>\n",
       "      <td>30-50 degrees</td>\n",
       "      <td>Outside</td>\n",
       "    </tr>\n",
       "    <tr>\n",
       "      <th>1</th>\n",
       "      <td>10000094</td>\n",
       "      <td>2015-03-18 23:00:00</td>\n",
       "      <td>066XX S MARSHFIELD AVE</td>\n",
       "      <td>OTHER OFFENSE</td>\n",
       "      <td>PAROLE VIOLATION</td>\n",
       "      <td>STREET</td>\n",
       "      <td>True</td>\n",
       "      <td>False</td>\n",
       "      <td>725</td>\n",
       "      <td>7.0</td>\n",
       "      <td>...</td>\n",
       "      <td>2015</td>\n",
       "      <td>02/10/2018 03:50:01 PM</td>\n",
       "      <td>(41.773371528, -87.665319468)</td>\n",
       "      <td>2015-03-18</td>\n",
       "      <td>34</td>\n",
       "      <td>48</td>\n",
       "      <td>Spring</td>\n",
       "      <td>41.0</td>\n",
       "      <td>30-50 degrees</td>\n",
       "      <td>Outside</td>\n",
       "    </tr>\n",
       "    <tr>\n",
       "      <th>2</th>\n",
       "      <td>10000095</td>\n",
       "      <td>2015-03-18 22:45:00</td>\n",
       "      <td>044XX S LAKE PARK AVE</td>\n",
       "      <td>BATTERY</td>\n",
       "      <td>DOMESTIC BATTERY SIMPLE</td>\n",
       "      <td>APARTMENT</td>\n",
       "      <td>False</td>\n",
       "      <td>True</td>\n",
       "      <td>222</td>\n",
       "      <td>2.0</td>\n",
       "      <td>...</td>\n",
       "      <td>2015</td>\n",
       "      <td>02/10/2018 03:50:01 PM</td>\n",
       "      <td>(41.81386068, -87.596642837)</td>\n",
       "      <td>2015-03-18</td>\n",
       "      <td>34</td>\n",
       "      <td>48</td>\n",
       "      <td>Spring</td>\n",
       "      <td>41.0</td>\n",
       "      <td>30-50 degrees</td>\n",
       "      <td>Inside</td>\n",
       "    </tr>\n",
       "    <tr>\n",
       "      <th>3</th>\n",
       "      <td>10000096</td>\n",
       "      <td>2015-03-18 22:30:00</td>\n",
       "      <td>051XX S MICHIGAN AVE</td>\n",
       "      <td>BATTERY</td>\n",
       "      <td>SIMPLE</td>\n",
       "      <td>APARTMENT</td>\n",
       "      <td>False</td>\n",
       "      <td>False</td>\n",
       "      <td>225</td>\n",
       "      <td>2.0</td>\n",
       "      <td>...</td>\n",
       "      <td>2015</td>\n",
       "      <td>02/10/2018 03:50:01 PM</td>\n",
       "      <td>(41.800802415, -87.622619343)</td>\n",
       "      <td>2015-03-18</td>\n",
       "      <td>34</td>\n",
       "      <td>48</td>\n",
       "      <td>Spring</td>\n",
       "      <td>41.0</td>\n",
       "      <td>30-50 degrees</td>\n",
       "      <td>Inside</td>\n",
       "    </tr>\n",
       "    <tr>\n",
       "      <th>4</th>\n",
       "      <td>10000097</td>\n",
       "      <td>2015-03-18 21:00:00</td>\n",
       "      <td>047XX W ADAMS ST</td>\n",
       "      <td>ROBBERY</td>\n",
       "      <td>ARMED: HANDGUN</td>\n",
       "      <td>SIDEWALK</td>\n",
       "      <td>False</td>\n",
       "      <td>False</td>\n",
       "      <td>1113</td>\n",
       "      <td>11.0</td>\n",
       "      <td>...</td>\n",
       "      <td>2015</td>\n",
       "      <td>02/10/2018 03:50:01 PM</td>\n",
       "      <td>(41.878064761, -87.743354013)</td>\n",
       "      <td>2015-03-18</td>\n",
       "      <td>34</td>\n",
       "      <td>48</td>\n",
       "      <td>Spring</td>\n",
       "      <td>41.0</td>\n",
       "      <td>30-50 degrees</td>\n",
       "      <td>Outside</td>\n",
       "    </tr>\n",
       "  </tbody>\n",
       "</table>\n",
       "<p>5 rows × 22 columns</p>\n",
       "</div>"
      ],
      "text/plain": [
       "         ID                 Date                   Block   Primary Type  \\\n",
       "0  10000092  2015-03-18 19:44:00         047XX W OHIO ST        BATTERY   \n",
       "1  10000094  2015-03-18 23:00:00  066XX S MARSHFIELD AVE  OTHER OFFENSE   \n",
       "2  10000095  2015-03-18 22:45:00   044XX S LAKE PARK AVE        BATTERY   \n",
       "3  10000096  2015-03-18 22:30:00    051XX S MICHIGAN AVE        BATTERY   \n",
       "4  10000097  2015-03-18 21:00:00        047XX W ADAMS ST        ROBBERY   \n",
       "\n",
       "               Description Location Description  Arrest  Domestic  Beat  \\\n",
       "0      AGGRAVATED: HANDGUN               STREET   False     False  1111   \n",
       "1         PAROLE VIOLATION               STREET    True     False   725   \n",
       "2  DOMESTIC BATTERY SIMPLE            APARTMENT   False      True   222   \n",
       "3                   SIMPLE            APARTMENT   False     False   225   \n",
       "4           ARMED: HANDGUN             SIDEWALK   False     False  1113   \n",
       "\n",
       "   District       ...        Year              Updated On  \\\n",
       "0      11.0       ...        2015  02/10/2018 03:50:01 PM   \n",
       "1       7.0       ...        2015  02/10/2018 03:50:01 PM   \n",
       "2       2.0       ...        2015  02/10/2018 03:50:01 PM   \n",
       "3       2.0       ...        2015  02/10/2018 03:50:01 PM   \n",
       "4      11.0       ...        2015  02/10/2018 03:50:01 PM   \n",
       "\n",
       "                        Location         Day MinTemp MaxTemp  Season  AvgTemp  \\\n",
       "0  (41.891398861, -87.744384567)  2015-03-18      34      48  Spring     41.0   \n",
       "1  (41.773371528, -87.665319468)  2015-03-18      34      48  Spring     41.0   \n",
       "2   (41.81386068, -87.596642837)  2015-03-18      34      48  Spring     41.0   \n",
       "3  (41.800802415, -87.622619343)  2015-03-18      34      48  Spring     41.0   \n",
       "4  (41.878064761, -87.743354013)  2015-03-18      34      48  Spring     41.0   \n",
       "\n",
       "         Weather  Inside/Outside  \n",
       "0  30-50 degrees         Outside  \n",
       "1  30-50 degrees         Outside  \n",
       "2  30-50 degrees          Inside  \n",
       "3  30-50 degrees          Inside  \n",
       "4  30-50 degrees         Outside  \n",
       "\n",
       "[5 rows x 22 columns]"
      ]
     },
     "execution_count": 8,
     "metadata": {},
     "output_type": "execute_result"
    }
   ],
   "source": [
    "crime2.head()"
   ]
  },
  {
   "cell_type": "code",
   "execution_count": 38,
   "metadata": {},
   "outputs": [],
   "source": []
  },
  {
   "cell_type": "code",
   "execution_count": 39,
   "metadata": {},
   "outputs": [
    {
     "ename": "ValueError",
     "evalue": "'label' must be of length 'x'",
     "output_type": "error",
     "traceback": [
      "\u001b[1;31m---------------------------------------------------------------------------\u001b[0m",
      "\u001b[1;31mValueError\u001b[0m                                Traceback (most recent call last)",
      "\u001b[1;32m<ipython-input-39-1366bbebe47c>\u001b[0m in \u001b[0;36m<module>\u001b[1;34m()\u001b[0m\n\u001b[0;32m      1\u001b[0m fig1 = plt.pie(list(observed),labels=types_w, explode=explode,autopct='%1.1f%%',\n\u001b[1;32m----> 2\u001b[1;33m        shadow=True, startangle=90)\n\u001b[0m",
      "\u001b[1;32m~\\Anaconda3\\lib\\site-packages\\matplotlib\\pyplot.py\u001b[0m in \u001b[0;36mpie\u001b[1;34m(x, explode, labels, colors, autopct, pctdistance, shadow, labeldistance, startangle, radius, counterclock, wedgeprops, textprops, center, frame, rotatelabels, hold, data)\u001b[0m\n\u001b[0;32m   3341\u001b[0m                      \u001b[0mradius\u001b[0m\u001b[1;33m=\u001b[0m\u001b[0mradius\u001b[0m\u001b[1;33m,\u001b[0m \u001b[0mcounterclock\u001b[0m\u001b[1;33m=\u001b[0m\u001b[0mcounterclock\u001b[0m\u001b[1;33m,\u001b[0m\u001b[1;33m\u001b[0m\u001b[0m\n\u001b[0;32m   3342\u001b[0m                      \u001b[0mwedgeprops\u001b[0m\u001b[1;33m=\u001b[0m\u001b[0mwedgeprops\u001b[0m\u001b[1;33m,\u001b[0m \u001b[0mtextprops\u001b[0m\u001b[1;33m=\u001b[0m\u001b[0mtextprops\u001b[0m\u001b[1;33m,\u001b[0m \u001b[0mcenter\u001b[0m\u001b[1;33m=\u001b[0m\u001b[0mcenter\u001b[0m\u001b[1;33m,\u001b[0m\u001b[1;33m\u001b[0m\u001b[0m\n\u001b[1;32m-> 3343\u001b[1;33m                      frame=frame, rotatelabels=rotatelabels, data=data)\n\u001b[0m\u001b[0;32m   3344\u001b[0m     \u001b[1;32mfinally\u001b[0m\u001b[1;33m:\u001b[0m\u001b[1;33m\u001b[0m\u001b[0m\n\u001b[0;32m   3345\u001b[0m         \u001b[0max\u001b[0m\u001b[1;33m.\u001b[0m\u001b[0m_hold\u001b[0m \u001b[1;33m=\u001b[0m \u001b[0mwashold\u001b[0m\u001b[1;33m\u001b[0m\u001b[0m\n",
      "\u001b[1;32m~\\Anaconda3\\lib\\site-packages\\matplotlib\\__init__.py\u001b[0m in \u001b[0;36minner\u001b[1;34m(ax, *args, **kwargs)\u001b[0m\n\u001b[0;32m   1865\u001b[0m                         \u001b[1;34m\"the Matplotlib list!)\"\u001b[0m \u001b[1;33m%\u001b[0m \u001b[1;33m(\u001b[0m\u001b[0mlabel_namer\u001b[0m\u001b[1;33m,\u001b[0m \u001b[0mfunc\u001b[0m\u001b[1;33m.\u001b[0m\u001b[0m__name__\u001b[0m\u001b[1;33m)\u001b[0m\u001b[1;33m,\u001b[0m\u001b[1;33m\u001b[0m\u001b[0m\n\u001b[0;32m   1866\u001b[0m                         RuntimeWarning, stacklevel=2)\n\u001b[1;32m-> 1867\u001b[1;33m             \u001b[1;32mreturn\u001b[0m \u001b[0mfunc\u001b[0m\u001b[1;33m(\u001b[0m\u001b[0max\u001b[0m\u001b[1;33m,\u001b[0m \u001b[1;33m*\u001b[0m\u001b[0margs\u001b[0m\u001b[1;33m,\u001b[0m \u001b[1;33m**\u001b[0m\u001b[0mkwargs\u001b[0m\u001b[1;33m)\u001b[0m\u001b[1;33m\u001b[0m\u001b[0m\n\u001b[0m\u001b[0;32m   1868\u001b[0m \u001b[1;33m\u001b[0m\u001b[0m\n\u001b[0;32m   1869\u001b[0m         inner.__doc__ = _add_data_doc(inner.__doc__,\n",
      "\u001b[1;32m~\\Anaconda3\\lib\\site-packages\\matplotlib\\axes\\_axes.py\u001b[0m in \u001b[0;36mpie\u001b[1;34m(self, x, explode, labels, colors, autopct, pctdistance, shadow, labeldistance, startangle, radius, counterclock, wedgeprops, textprops, center, frame, rotatelabels)\u001b[0m\n\u001b[0;32m   2865\u001b[0m             \u001b[0mexplode\u001b[0m \u001b[1;33m=\u001b[0m \u001b[1;33m[\u001b[0m\u001b[1;36m0\u001b[0m\u001b[1;33m]\u001b[0m \u001b[1;33m*\u001b[0m \u001b[0mlen\u001b[0m\u001b[1;33m(\u001b[0m\u001b[0mx\u001b[0m\u001b[1;33m)\u001b[0m\u001b[1;33m\u001b[0m\u001b[0m\n\u001b[0;32m   2866\u001b[0m         \u001b[1;32mif\u001b[0m \u001b[0mlen\u001b[0m\u001b[1;33m(\u001b[0m\u001b[0mx\u001b[0m\u001b[1;33m)\u001b[0m \u001b[1;33m!=\u001b[0m \u001b[0mlen\u001b[0m\u001b[1;33m(\u001b[0m\u001b[0mlabels\u001b[0m\u001b[1;33m)\u001b[0m\u001b[1;33m:\u001b[0m\u001b[1;33m\u001b[0m\u001b[0m\n\u001b[1;32m-> 2867\u001b[1;33m             \u001b[1;32mraise\u001b[0m \u001b[0mValueError\u001b[0m\u001b[1;33m(\u001b[0m\u001b[1;34m\"'label' must be of length 'x'\"\u001b[0m\u001b[1;33m)\u001b[0m\u001b[1;33m\u001b[0m\u001b[0m\n\u001b[0m\u001b[0;32m   2868\u001b[0m         \u001b[1;32mif\u001b[0m \u001b[0mlen\u001b[0m\u001b[1;33m(\u001b[0m\u001b[0mx\u001b[0m\u001b[1;33m)\u001b[0m \u001b[1;33m!=\u001b[0m \u001b[0mlen\u001b[0m\u001b[1;33m(\u001b[0m\u001b[0mexplode\u001b[0m\u001b[1;33m)\u001b[0m\u001b[1;33m:\u001b[0m\u001b[1;33m\u001b[0m\u001b[0m\n\u001b[0;32m   2869\u001b[0m             \u001b[1;32mraise\u001b[0m \u001b[0mValueError\u001b[0m\u001b[1;33m(\u001b[0m\u001b[1;34m\"'explode' must be of length 'x'\"\u001b[0m\u001b[1;33m)\u001b[0m\u001b[1;33m\u001b[0m\u001b[0m\n",
      "\u001b[1;31mValueError\u001b[0m: 'label' must be of length 'x'"
     ]
    },
    {
     "data": {
      "image/png": "[encoded data removed]",
      "text/plain": [
       "<Figure size 432x288 with 1 Axes>"
      ]
     },
     "metadata": {
      "needs_background": "light"
     },
     "output_type": "display_data"
    }
   ],
   "source": []
  },
  {
   "cell_type": "code",
   "execution_count": 40,
   "metadata": {},
   "outputs": [
    {
     "data": {
      "text/plain": [
       "(-1.1148832624710434,\n",
       " 1.1063331298067267,\n",
       " -1.1101045407684171,\n",
       " 1.1004811686080198)"
      ]
     },
     "execution_count": 40,
     "metadata": {},
     "output_type": "execute_result"
    },
    {
     "data": {
      "image/png": "[encoded data removed]",
      "text/plain": [
       "<Figure size 432x288 with 1 Axes>"
      ]
     },
     "metadata": {},
     "output_type": "display_data"
    }
   ],
   "source": [
    "labels = ['Below Freezing','30-50 F','51-70 F', '71-90', 'Over 90']\n",
    "sizes = [476,1041,946,785,8]\n",
    "\n",
    "fig1 = plt.pie(list(sizes),labels=labels, explode=explode,autopct='%1.1f%%',\n",
    "       shadow=True, startangle=90)\n",
    "plt.axis('equal')"
   ]
  },
  {
   "cell_type": "code",
   "execution_count": null,
   "metadata": {},
   "outputs": [],
   "source": []
  }
 ],
 "metadata": {
  "kernelspec": {
   "display_name": "Python 3",
   "language": "python",
   "name": "python3"
  },
  "language_info": {
   "codemirror_mode": {
    "name": "ipython",
    "version": 3
   },
   "file_extension": ".py",
   "mimetype": "text/x-python",
   "name": "python",
   "nbconvert_exporter": "python",
   "pygments_lexer": "ipython3",
   "version": "3.7.0"
  }
 },
 "nbformat": 4,
 "nbformat_minor": 2
}
