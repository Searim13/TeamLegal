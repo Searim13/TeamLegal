{
 "cells": [
  {
   "cell_type": "code",
   "execution_count": 1,
   "metadata": {},
   "outputs": [],
   "source": [
    "import pandas as pd\n",
    "import numpy as np\n",
    "import matplotlib.pyplot as plt"
   ]
  },
  {
   "cell_type": "code",
   "execution_count": 8,
   "metadata": {
    "scrolled": true
   },
   "outputs": [],
   "source": [
    "crime = pd.read_csv(\"TotalData.csv\")\n"
   ]
  },
  {
   "cell_type": "code",
   "execution_count": 9,
   "metadata": {},
   "outputs": [
    {
     "data": {
      "text/html": [
       "<div>\n",
       "<style scoped>\n",
       "    .dataframe tbody tr th:only-of-type {\n",
       "        vertical-align: middle;\n",
       "    }\n",
       "\n",
       "    .dataframe tbody tr th {\n",
       "        vertical-align: top;\n",
       "    }\n",
       "\n",
       "    .dataframe thead th {\n",
       "        text-align: right;\n",
       "    }\n",
       "</style>\n",
       "<table border=\"1\" class=\"dataframe\">\n",
       "  <thead>\n",
       "    <tr style=\"text-align: right;\">\n",
       "      <th></th>\n",
       "      <th>ID</th>\n",
       "      <th>Date</th>\n",
       "      <th>Block</th>\n",
       "      <th>Primary Type</th>\n",
       "      <th>Description</th>\n",
       "      <th>Location Description</th>\n",
       "      <th>Arrest</th>\n",
       "      <th>Domestic</th>\n",
       "      <th>Beat</th>\n",
       "      <th>District</th>\n",
       "      <th>Ward</th>\n",
       "      <th>Community Area</th>\n",
       "      <th>Year</th>\n",
       "      <th>Updated On</th>\n",
       "      <th>Location</th>\n",
       "      <th>Day</th>\n",
       "      <th>MinTemp</th>\n",
       "      <th>MaxTemp</th>\n",
       "      <th>Season</th>\n",
       "    </tr>\n",
       "  </thead>\n",
       "  <tbody>\n",
       "    <tr>\n",
       "      <th>0</th>\n",
       "      <td>10000092</td>\n",
       "      <td>2015-03-18 19:44:00</td>\n",
       "      <td>047XX W OHIO ST</td>\n",
       "      <td>BATTERY</td>\n",
       "      <td>AGGRAVATED: HANDGUN</td>\n",
       "      <td>STREET</td>\n",
       "      <td>False</td>\n",
       "      <td>False</td>\n",
       "      <td>1111</td>\n",
       "      <td>11.0</td>\n",
       "      <td>28.0</td>\n",
       "      <td>25.0</td>\n",
       "      <td>2015</td>\n",
       "      <td>02/10/2018 03:50:01 PM</td>\n",
       "      <td>(41.891398861, -87.744384567)</td>\n",
       "      <td>2015-03-18</td>\n",
       "      <td>34</td>\n",
       "      <td>48</td>\n",
       "      <td>Spring</td>\n",
       "    </tr>\n",
       "    <tr>\n",
       "      <th>1</th>\n",
       "      <td>10000094</td>\n",
       "      <td>2015-03-18 23:00:00</td>\n",
       "      <td>066XX S MARSHFIELD AVE</td>\n",
       "      <td>OTHER OFFENSE</td>\n",
       "      <td>PAROLE VIOLATION</td>\n",
       "      <td>STREET</td>\n",
       "      <td>True</td>\n",
       "      <td>False</td>\n",
       "      <td>725</td>\n",
       "      <td>7.0</td>\n",
       "      <td>15.0</td>\n",
       "      <td>67.0</td>\n",
       "      <td>2015</td>\n",
       "      <td>02/10/2018 03:50:01 PM</td>\n",
       "      <td>(41.773371528, -87.665319468)</td>\n",
       "      <td>2015-03-18</td>\n",
       "      <td>34</td>\n",
       "      <td>48</td>\n",
       "      <td>Spring</td>\n",
       "    </tr>\n",
       "    <tr>\n",
       "      <th>2</th>\n",
       "      <td>10000095</td>\n",
       "      <td>2015-03-18 22:45:00</td>\n",
       "      <td>044XX S LAKE PARK AVE</td>\n",
       "      <td>BATTERY</td>\n",
       "      <td>DOMESTIC BATTERY SIMPLE</td>\n",
       "      <td>APARTMENT</td>\n",
       "      <td>False</td>\n",
       "      <td>True</td>\n",
       "      <td>222</td>\n",
       "      <td>2.0</td>\n",
       "      <td>4.0</td>\n",
       "      <td>39.0</td>\n",
       "      <td>2015</td>\n",
       "      <td>02/10/2018 03:50:01 PM</td>\n",
       "      <td>(41.81386068, -87.596642837)</td>\n",
       "      <td>2015-03-18</td>\n",
       "      <td>34</td>\n",
       "      <td>48</td>\n",
       "      <td>Spring</td>\n",
       "    </tr>\n",
       "    <tr>\n",
       "      <th>3</th>\n",
       "      <td>10000096</td>\n",
       "      <td>2015-03-18 22:30:00</td>\n",
       "      <td>051XX S MICHIGAN AVE</td>\n",
       "      <td>BATTERY</td>\n",
       "      <td>SIMPLE</td>\n",
       "      <td>APARTMENT</td>\n",
       "      <td>False</td>\n",
       "      <td>False</td>\n",
       "      <td>225</td>\n",
       "      <td>2.0</td>\n",
       "      <td>3.0</td>\n",
       "      <td>40.0</td>\n",
       "      <td>2015</td>\n",
       "      <td>02/10/2018 03:50:01 PM</td>\n",
       "      <td>(41.800802415, -87.622619343)</td>\n",
       "      <td>2015-03-18</td>\n",
       "      <td>34</td>\n",
       "      <td>48</td>\n",
       "      <td>Spring</td>\n",
       "    </tr>\n",
       "    <tr>\n",
       "      <th>4</th>\n",
       "      <td>10000097</td>\n",
       "      <td>2015-03-18 21:00:00</td>\n",
       "      <td>047XX W ADAMS ST</td>\n",
       "      <td>ROBBERY</td>\n",
       "      <td>ARMED: HANDGUN</td>\n",
       "      <td>SIDEWALK</td>\n",
       "      <td>False</td>\n",
       "      <td>False</td>\n",
       "      <td>1113</td>\n",
       "      <td>11.0</td>\n",
       "      <td>28.0</td>\n",
       "      <td>25.0</td>\n",
       "      <td>2015</td>\n",
       "      <td>02/10/2018 03:50:01 PM</td>\n",
       "      <td>(41.878064761, -87.743354013)</td>\n",
       "      <td>2015-03-18</td>\n",
       "      <td>34</td>\n",
       "      <td>48</td>\n",
       "      <td>Spring</td>\n",
       "    </tr>\n",
       "  </tbody>\n",
       "</table>\n",
       "</div>"
      ],
      "text/plain": [
       "         ID                 Date                   Block   Primary Type  \\\n",
       "0  10000092  2015-03-18 19:44:00         047XX W OHIO ST        BATTERY   \n",
       "1  10000094  2015-03-18 23:00:00  066XX S MARSHFIELD AVE  OTHER OFFENSE   \n",
       "2  10000095  2015-03-18 22:45:00   044XX S LAKE PARK AVE        BATTERY   \n",
       "3  10000096  2015-03-18 22:30:00    051XX S MICHIGAN AVE        BATTERY   \n",
       "4  10000097  2015-03-18 21:00:00        047XX W ADAMS ST        ROBBERY   \n",
       "\n",
       "               Description Location Description  Arrest  Domestic  Beat  \\\n",
       "0      AGGRAVATED: HANDGUN               STREET   False     False  1111   \n",
       "1         PAROLE VIOLATION               STREET    True     False   725   \n",
       "2  DOMESTIC BATTERY SIMPLE            APARTMENT   False      True   222   \n",
       "3                   SIMPLE            APARTMENT   False     False   225   \n",
       "4           ARMED: HANDGUN             SIDEWALK   False     False  1113   \n",
       "\n",
       "   District  Ward  Community Area  Year              Updated On  \\\n",
       "0      11.0  28.0            25.0  2015  02/10/2018 03:50:01 PM   \n",
       "1       7.0  15.0            67.0  2015  02/10/2018 03:50:01 PM   \n",
       "2       2.0   4.0            39.0  2015  02/10/2018 03:50:01 PM   \n",
       "3       2.0   3.0            40.0  2015  02/10/2018 03:50:01 PM   \n",
       "4      11.0  28.0            25.0  2015  02/10/2018 03:50:01 PM   \n",
       "\n",
       "                        Location         Day  MinTemp  MaxTemp  Season  \n",
       "0  (41.891398861, -87.744384567)  2015-03-18       34       48  Spring  \n",
       "1  (41.773371528, -87.665319468)  2015-03-18       34       48  Spring  \n",
       "2   (41.81386068, -87.596642837)  2015-03-18       34       48  Spring  \n",
       "3  (41.800802415, -87.622619343)  2015-03-18       34       48  Spring  \n",
       "4  (41.878064761, -87.743354013)  2015-03-18       34       48  Spring  "
      ]
     },
     "execution_count": 9,
     "metadata": {},
     "output_type": "execute_result"
    }
   ],
   "source": [
    "crime.head()"
   ]
  },
  {
   "cell_type": "code",
   "execution_count": 10,
   "metadata": {},
   "outputs": [
    {
     "data": {
      "text/plain": [
       "array(['BATTERY', 'OTHER OFFENSE', 'ROBBERY', 'NARCOTICS',\n",
       "       'CRIMINAL DAMAGE', 'THEFT', 'BURGLARY', 'MOTOR VEHICLE THEFT',\n",
       "       'ASSAULT', 'DECEPTIVE PRACTICE'], dtype=object)"
      ]
     },
     "execution_count": 10,
     "metadata": {},
     "output_type": "execute_result"
    }
   ],
   "source": [
    "#top_10 = list(crime_data_pt.index)\n",
    "#top_10_filter = crime['Primary Type'].isin(list(top_10))\n",
    "#crime2 = crime_top_10[['Beat','Primary Type']]\n",
    "#crime_top_10 = crime.loc[top_10_filter, :]\n",
    "#crime_data_pt = crime2[\"Primary Type\"].value_counts().head(10)\n",
    "\n",
    "crime_data_pt = crime[\"Primary Type\"].value_counts().head(10)\n",
    "top_10 = list(crime_data_pt.index)\n",
    "top_10_filter = crime['Primary Type'].isin(top_10)\n",
    "crime_top_10 = crime.loc[top_10_filter, :]\n",
    "crime_top_10[\"Primary Type\"].unique()"
   ]
  },
  {
   "cell_type": "code",
   "execution_count": 11,
   "metadata": {},
   "outputs": [
    {
     "data": {
      "text/plain": [
       "array(['Spring', 'Fall', 'Winter', 'Summer'], dtype=object)"
      ]
     },
     "execution_count": 11,
     "metadata": {},
     "output_type": "execute_result"
    }
   ],
   "source": [
    "new_crime = crime_top_10[[\"Season\", 'Primary Type']]\n",
    "\n",
    "crime_array = new_crime[\"Season\"].unique()\n",
    "crime_array"
   ]
  },
  {
   "cell_type": "code",
   "execution_count": 12,
   "metadata": {},
   "outputs": [],
   "source": [
    "final_crime = new_crime[new_crime[\"Season\"].isin(crime_array)]\n",
    "#new_crime.loc[new_crime[\"Beat\"].isin(ten_beats)]"
   ]
  },
  {
   "cell_type": "code",
   "execution_count": null,
   "metadata": {},
   "outputs": [],
   "source": [
    "#final_crime.head()"
   ]
  },
  {
   "cell_type": "code",
   "execution_count": null,
   "metadata": {},
   "outputs": [],
   "source": [
    "#final_crime[final_crime[\"Primary Type\"] == \"BATTERY\"][\"Beat\"].value_counts().sort_index()"
   ]
  },
  {
   "cell_type": "code",
   "execution_count": null,
   "metadata": {},
   "outputs": [],
   "source": [
    "#final_crime[final_crime[\"Primary Type\"] == \"THEFT\"][\"Beat\"].value_counts().sort_index().index"
   ]
  },
  {
   "cell_type": "code",
   "execution_count": null,
   "metadata": {},
   "outputs": [],
   "source": [
    "#final_crime[\"Primary Type\"].unique()"
   ]
  },
  {
   "cell_type": "code",
   "execution_count": null,
   "metadata": {},
   "outputs": [],
   "source": []
  },
  {
   "cell_type": "code",
   "execution_count": 35,
   "metadata": {},
   "outputs": [
    {
     "data": {
      "image/png": "[encoded data removed]",
      "text/plain": [
       "<Figure size 1080x360 with 1 Axes>"
      ]
     },
     "metadata": {
      "needs_background": "light"
     },
     "output_type": "display_data"
    }
   ],
   "source": [
    "freq_table = pd.crosstab(final_crime['Season'], final_crime['Primary Type'])\n",
    "freq_table.plot.bar(stacked=True,figsize=(15,5), edgecolor='black', width=(.2))\n",
    "\n",
    "#legend(bbox_to_anchor=(1.05, 1), loc=2, borderaxespad=0.)\n",
    "#plt.show()\n",
    "plt.savefig('season_crime_stacked_chart2.png')"
   ]
  },
  {
   "cell_type": "code",
   "execution_count": 18,
   "metadata": {},
   "outputs": [
    {
     "data": {
      "text/plain": [
       "<Figure size 432x288 with 0 Axes>"
      ]
     },
     "metadata": {},
     "output_type": "display_data"
    }
   ],
   "source": []
  }
 ],
 "metadata": {
  "kernelspec": {
   "display_name": "Python 3",
   "language": "python",
   "name": "python3"
  },
  "language_info": {
   "codemirror_mode": {
    "name": "ipython",
    "version": 3
   },
   "file_extension": ".py",
   "mimetype": "text/x-python",
   "name": "python",
   "nbconvert_exporter": "python",
   "pygments_lexer": "ipython3",
   "version": "3.7.0"
  }
 },
 "nbformat": 4,
 "nbformat_minor": 2
}
